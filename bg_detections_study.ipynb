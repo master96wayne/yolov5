{
 "cells": [
  {
   "cell_type": "code",
   "execution_count": 9,
   "metadata": {},
   "outputs": [],
   "source": [
    "import pandas as pd\n",
    "import cv2\n",
    "import os\n",
    "from imutils import build_montages\n",
    "import tqdm"
   ]
  },
  {
   "cell_type": "code",
   "execution_count": 14,
   "metadata": {},
   "outputs": [],
   "source": [
    "def bestByImg(csvPath):\n",
    "    df = pd.read_csv(csvPath)\n",
    "    df['conf'] = df.obj_conf * df.cls_conf\n",
    "\n",
    "    # Sort the DataFrame by 'conf' column in descending order\n",
    "    # Use groupby to get the rows with the maximum 'conf' value for each unique 'img'\n",
    "    result = (df[df.cls_conf!=1]\n",
    "        .sort_values(by='conf', ascending=False)\n",
    "        .groupby('img').first().reset_index())\n",
    "\n",
    "    return result\n",
    "\n",
    "def buildMontage(df, imgRoot, show=False):\n",
    "    images = []\n",
    "\n",
    "    for imgPath in tqdm.tqdm(df.img):\n",
    "        image = cv2.imread(os.path.join(imgRoot, imgPath.replace('txt', 'jpg')))\n",
    "        imgRow = df[df['img'] == imgPath]\n",
    "        # print(int(xmin))\n",
    "        xmin = int(imgRow.xmin)\n",
    "        ymin = int(imgRow.ymin)\n",
    "        xmax = int(imgRow.xmax)\n",
    "        ymax = int(imgRow.ymax)\n",
    "        image = cv2.rectangle(image, (xmin,ymin), (xmax,ymax), (0,255,0), 3)\n",
    "        images.append(image)\n",
    "\n",
    "    montages = build_montages(images, (640//3, 640//4), (5,5))\n",
    "\n",
    "    if show:\n",
    "        showMontages(montages)\n",
    "\n",
    "    return montages\n",
    "\n",
    "def showMontages(montages):\n",
    "    for montage in montages:\n",
    "        cv2.imshow('montage', montage)\n",
    "        cv2.waitKey(0)\n",
    "        cv2.destroyAllWindows()"
   ]
  },
  {
   "cell_type": "code",
   "execution_count": 11,
   "metadata": {},
   "outputs": [
    {
     "name": "stderr",
     "output_type": "stream",
     "text": [
      "100%|██████████| 1067/1067 [00:07<00:00, 150.08it/s]\n"
     ]
    }
   ],
   "source": [
    "csvPath = 'bg_df_detections.csv'\n",
    "imgRoot = \"C:\\\\Users\\\\leofi\\OneDrive - Universidade de Lisboa\\Documents\\GitHub\\masters\\Data\\\\fc2015_yolo_uc_hard/test/images\"\n",
    "\n",
    "df = bestByImg(csvPath)\n",
    "montages = buildMontage(df, imgRoot, show=True)"
   ]
  },
  {
   "cell_type": "code",
   "execution_count": null,
   "metadata": {},
   "outputs": [],
   "source": []
  }
 ],
 "metadata": {
  "kernelspec": {
   "display_name": "yolov5",
   "language": "python",
   "name": "python3"
  },
  "language_info": {
   "codemirror_mode": {
    "name": "ipython",
    "version": 3
   },
   "file_extension": ".py",
   "mimetype": "text/x-python",
   "name": "python",
   "nbconvert_exporter": "python",
   "pygments_lexer": "ipython3",
   "version": "3.10.9"
  },
  "orig_nbformat": 4
 },
 "nbformat": 4,
 "nbformat_minor": 2
}
